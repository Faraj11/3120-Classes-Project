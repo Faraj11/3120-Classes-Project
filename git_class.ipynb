{
 "cells": [
  {
   "cell_type": "code",
   "execution_count": 4,
   "id": "c7cb312f-9ff9-4ef4-92ae-fab886eeefd4",
   "metadata": {
    "tags": []
   },
   "outputs": [
    {
     "name": "stdout",
     "output_type": "stream",
     "text": [
      "The Mountain Gorilla has a population of 1000 and they live in a tropical forest\n",
      "The plants is the main food source for a Mountain Gorilla\n",
      "It weighs 150 kg and lives in a social group\n",
      "Mountain Gorilla is beating its chest to display dominance!\n"
     ]
    }
   ],
   "source": [
    "from Animal import Animal\n",
    "\n",
    "class Gorilla(Animal):\n",
    "    def __init__(self, name, habitat, diet, population, weight, social_group=True):\n",
    "        super().__init__(name, habitat, diet, population)\n",
    "        self.weight = weight\n",
    "        self.social_group = social_group\n",
    "\n",
    "    def details(self):\n",
    "        super().details()\n",
    "        social_status = \"lives in a social group\" if self.social_group else \"is solitary\"\n",
    "        print('It weighs', self.weight, 'kg and', social_status)\n",
    "\n",
    "    def beat_chest(self):\n",
    "        print(self.name, 'is beating its chest to display dominance!')\n",
    "\n",
    "\n",
    "gorilla = Gorilla(name=\"Mountain Gorilla\", habitat=\"tropical forest\", diet=\"plants\", population=1000, weight=150)\n",
    "gorilla.details()\n",
    "gorilla.beat_chest()\n"
   ]
  },
  {
   "cell_type": "code",
   "execution_count": null,
   "id": "aadaf9ba-924e-46b3-bbf9-78afa9348027",
   "metadata": {},
   "outputs": [],
   "source": []
  }
 ],
 "metadata": {
  "kernelspec": {
   "display_name": "Python 3 (ipykernel)",
   "language": "python",
   "name": "python3"
  },
  "language_info": {
   "codemirror_mode": {
    "name": "ipython",
    "version": 3
   },
   "file_extension": ".py",
   "mimetype": "text/x-python",
   "name": "python",
   "nbconvert_exporter": "python",
   "pygments_lexer": "ipython3",
   "version": "3.11.5"
  }
 },
 "nbformat": 4,
 "nbformat_minor": 5
}
