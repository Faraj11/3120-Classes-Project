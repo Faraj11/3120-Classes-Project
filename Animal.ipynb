{
 "cells": [
  {
   "cell_type": "code",
   "execution_count": 44,
   "id": "709301d9-40cc-4d1e-9da5-91ee2dde85fd",
   "metadata": {},
   "outputs": [],
   "source": [
    "from Animal import Animal"
   ]
  },
  {
   "cell_type": "code",
   "execution_count": 45,
   "id": "51262f6b-54d7-4602-abee-d6c2bde8ab0a",
   "metadata": {},
   "outputs": [
    {
     "name": "stdout",
     "output_type": "stream",
     "text": [
      "This animal is a tiger\n",
      "The tiger has a population of 1000 and they live in a jungle\n",
      "The deer is the main food source for a tiger\n"
     ]
    }
   ],
   "source": [
    "x = Animal('tiger','jungle','deer', 1000)\n",
    "x.species()\n",
    "x.details()"
   ]
  },
  {
   "cell_type": "code",
   "execution_count": 46,
   "id": "f7b39b16-16fd-4847-8243-6a16aad6119a",
   "metadata": {},
   "outputs": [
    {
     "name": "stdout",
     "output_type": "stream",
     "text": [
      "The lion has current population of 1000\n",
      "The max population for lion can be 2000\n",
      "The min population for lion can be 250\n",
      "The lion population heavily depends on the population of its main prey, zebra\n"
     ]
    }
   ],
   "source": [
    "class populationLimits(Animal):\n",
    "    def __init__(self, name, habitat, prey, population):\n",
    "        super().__init__(name, habitat, prey, population)\n",
    "        self.popMax = 2000\n",
    "        self.popMin = 250\n",
    "\n",
    "    def popRange(self):\n",
    "        print('The', self.name, 'has current population of', self.population)\n",
    "        print('The max population for', self.name, 'can be', self.popMax)\n",
    "        print('The min population for', self.name, 'can be', self.popMin)\n",
    "        print(\"The\", self.name, 'population heavily depends on the population of its main prey,', self.prey)\n",
    "\n",
    "test = populationLimits('lion','savannah','zebra', 1000)\n",
    "test.popRange()"
   ]
  }
 ],
 "metadata": {
  "kernelspec": {
   "display_name": "Python 3 (ipykernel)",
   "language": "python",
   "name": "python3"
  },
  "language_info": {
   "codemirror_mode": {
    "name": "ipython",
    "version": 3
   },
   "file_extension": ".py",
   "mimetype": "text/x-python",
   "name": "python",
   "nbconvert_exporter": "python",
   "pygments_lexer": "ipython3",
   "version": "3.12.4"
  }
 },
 "nbformat": 4,
 "nbformat_minor": 5
}
