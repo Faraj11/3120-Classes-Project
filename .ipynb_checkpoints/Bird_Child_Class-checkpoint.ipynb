{
 "cells": [
  {
   "cell_type": "code",
   "execution_count": 1,
   "id": "926e4773-1984-48c3-8bc7-2afaa47ee30a",
   "metadata": {},
   "outputs": [
    {
     "name": "stdout",
     "output_type": "stream",
     "text": [
      "The Parrot has a population of 15000 and they live in a tropical forest\n",
      "The seeds is the main food source for a Parrot\n",
      "It has a wingspan of 0.5 meters and can fly\n",
      "Parrot is chirping!\n"
     ]
    }
   ],
   "source": [
    "from Animal import Animal\n",
    "\n",
    "class Bird(Animal):\n",
    "    def __init__(self, name, habitat, prey, population, wingspan, fly=True):\n",
    "        super().__init__(name, habitat, prey, population)\n",
    "        self.wingspan = wingspan  \n",
    "        self.fly = fly\n",
    "\n",
    "    def details(self):\n",
    "        super().details() \n",
    "        flight_status = \"can fly\" if self.fly else \"can't fly\"\n",
    "        print('It has a wingspan of', self.wingspan, 'meters and', flight_status)\n",
    "\n",
    "    def chirp(self):\n",
    "        print(self.name, 'is chirping!')\n",
    "\n",
    "\n",
    "parrot = Bird(name=\"Parrot\", habitat=\"tropical forest\", prey=\"seeds\", population=15000, wingspan=0.5)\n",
    "parrot.details()\n",
    "parrot.chirp()"
   ]
  },
  {
   "cell_type": "code",
   "execution_count": null,
   "id": "eab41e1d-fabf-45a9-8da3-6fe7ec5e3873",
   "metadata": {},
   "outputs": [],
   "source": []
  }
 ],
 "metadata": {
  "kernelspec": {
   "display_name": "Python 3 (ipykernel)",
   "language": "python",
   "name": "python3"
  },
  "language_info": {
   "codemirror_mode": {
    "name": "ipython",
    "version": 3
   },
   "file_extension": ".py",
   "mimetype": "text/x-python",
   "name": "python",
   "nbconvert_exporter": "python",
   "pygments_lexer": "ipython3",
   "version": "3.11.4"
  }
 },
 "nbformat": 4,
 "nbformat_minor": 5
}
